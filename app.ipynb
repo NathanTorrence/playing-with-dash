!pip install -q jupyter-dash
!pip install -q pandas

import pandas as pd # pandas will let us work with tabular data
import json, urllib.request # these libraries will let us load web jsons

import plotly.express as px # px will let us create maps and graphs
 
import dash_html_components as html # allows us to structure the app's layout
import dash_core_components as dcc # allows us to add components (graphs, maps) to the app
from dash.dependencies import Input, Output # required to make graphs interactive (see @app.callback)
from jupyter_dash import JupyterDash # allows us to create and deploy the web app

app = JupyterDash(__name__)

# Open the LTC's VehiclePositions.json from URL:
vehicle_positions_url = urllib.request.urlopen("http://gtfs.ltconline.ca/Vehicle/VehiclePositions.json")
# Load the json file:
data = json.load(vehicle_positions_url)
# Tabulize the "entity" branch of the json file (turn into table format):
entities = pd.json_normalize(data['entity'])

# Create a mapbox map using Plotly Express:
fig_mapbox = px.scatter_mapbox(
    entities, # the table containing our vehicle data
    lat = 'vehicle.position.latitude',
    lon = 'vehicle.position.longitude',
    color_discrete_sequence=['red'],
    zoom = 10,
    mapbox_style="open-street-map" # use the OSM basemap
)

# Initialize the histogram:
fig_graph = px.histogram(entities, x='vehicle.position.speed')

app.layout = html.Div([
  html.H1("Mapping LTC Live with Dash"), # title
  dcc.Graph(id="LTC_map", figure=fig_mapbox), # map container
  html.Br(), # brake-line
  dcc.Graph(id="LTC_graph", figure=fig_graph) # graph container
], style={'textAlign': 'center'}) # center-justifies the title

@app.callback( # have graph update when the map's selectedData property changes:
    Output(component_id='LTC_graph', component_property='figure'),
    Input(component_id='LTC_map', component_property='selectedData')
)

# display_selected_data specifies what happens when selectedData changes:
def display_selected_data(selection): 
  if selection is None: # This will happen when the program starts:
    current_data = entities # set data to all points by default
  else:
    pts = pd.json_normalize(selection["points"]) # convert the selected points from json to a dataframe
    if pts.empty: # if no points were selected:
      current_data = entities # show all points' data on graph
    else: # if one or more points were selected:
      lat_list = pts['lat'].tolist() # get a list of the points' latitudes
      lon_list = pts['lon'].tolist() # get a list of the points' longitudes
      current_data = entities.loc[(entities['vehicle.position.latitude'].isin(lat_list)) & (entities['vehicle.position.longitude'].isin(lon_list))]  
  fig_new = px.histogram(current_data, x='vehicle.position.speed') # update the histogram with the "current_data" DataFrame
  return fig_new # return the updated histogram to display the selected information

app.run_server(mode='external', debug=True)
